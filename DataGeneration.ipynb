{
 "cells": [
  {
   "cell_type": "code",
   "execution_count": 2,
   "id": "ff7d682e",
   "metadata": {},
   "outputs": [],
   "source": [
    "import numpy as np\n",
    "import pandas as pd\n",
    "import googlemaps\n",
    "import json\n",
    "from scipy import ndimage\n",
    "import matplotlib.pyplot as plt"
   ]
  },
  {
   "cell_type": "code",
   "execution_count": 4,
   "id": "04f70854",
   "metadata": {},
   "outputs": [],
   "source": [
    "API_key = 'API Key'\n",
    "gmaps = googlemaps.Client(key=API_key)"
   ]
  },
  {
   "cell_type": "code",
   "execution_count": 29,
   "id": "2a76b1ca",
   "metadata": {},
   "outputs": [],
   "source": [
    "geometryDict = {\n",
    "  \"Point\": 0,\n",
    "  \"LineString\": 1,\n",
    "  \"MultiLineString\": 2,\n",
    "  \"Polygon\": 2,\n",
    "  \"MultiPolygon\": 3\n",
    "}\n",
    "buildings = {'yes','house','university','dormitory','apartments','detached',\n",
    "             'hotel','residential','commercial','office','retail',\n",
    "             'supermarket','church','hospital','government','school','college'}\n",
    "\n",
    "warehouses = {'way/174188355', 'way/676434395', 'way/440108548', 'way/447802001', 'way/453179452', \n",
    "              'way/38263351', 'way/173503696', 'way/37749300', 'way/412588608', 'way/958528168',\n",
    "              'way/38953076', 'way/39015619', 'way/422307109', 'way/102878296'}\n",
    "\n",
    "f = open('uw.geojson')\n",
    "load = json.load(f)\n",
    "columnNames = [\"ID\", \"building type\", \"latitudes\", \"longitudes\"]\n",
    "df = pd.DataFrame(columns = columnNames)\n",
    "wf = pd.DataFrame(columns = columnNames)\n",
    "i = 0\n",
    "j = 0\n",
    "for feature in load['features']:\n",
    "  if 'building' in feature['properties'] and feature['properties']['building'] in buildings:\n",
    "    geometry = feature['geometry']\n",
    "    id = feature['properties']['@id']\n",
    "    type = geometry['type']\n",
    "    coords = geometry['coordinates']\n",
    "    buildingType = feature['properties']['building']\n",
    "    if id in warehouses:\n",
    "      if geometryDict[type] == 2:\n",
    "        wf.loc[i] = [id] + [buildingType] + [coords[0][0][1]] + [coords[0][0][0]]\n",
    "      elif geometryDict[type] == 1:\n",
    "        wf.loc[i] = [id] + [buildingType] + [coords[0][1]] + [coords[0][0]]\n",
    "      elif geometryDict[type] == 0:\n",
    "        wf.loc[i] = [id] + [buildingType] + [coords[1]] + [coords[0]]\n",
    "      i = i+1\n",
    "    else:\n",
    "      if geometryDict[type] == 2:\n",
    "        df.loc[j] = [id] + [buildingType] + [coords[0][0][1]] + [coords[0][0][0]]\n",
    "      elif geometryDict[type] == 1:\n",
    "        df.loc[j] = [id] + [buildingType] + [coords[0][1]] + [coords[0][0]]\n",
    "      elif geometryDict[type] == 0:\n",
    "        df.loc[j] = [id] + [buildingType] + [coords[1]] + [coords[0]]\n",
    "      j = j+1"
   ]
  },
  {
   "cell_type": "code",
   "execution_count": 30,
   "id": "44f4e191",
   "metadata": {},
   "outputs": [],
   "source": [
    "destinations = list(zip(df.latitudes, df.longitudes))\n",
    "ware_destinations = list(zip(wf.latitudes, wf.longitudes))"
   ]
  },
  {
   "cell_type": "code",
   "execution_count": 31,
   "id": "f4d70abd",
   "metadata": {},
   "outputs": [],
   "source": [
    "durations = []\n",
    "\n",
    "for ware_destination in ware_destinations:\n",
    "    actual_duration = []\n",
    "    for destination in destinations:\n",
    "        result = gmaps.distance_matrix(ware_destination, destination, mode='driving')[\"rows\"][0][\"elements\"][0][\"duration\"][\"value\"]\n",
    "        actual_duration.append(result)\n",
    "    durations.append(actual_duration)\n",
    "\n",
    "distances = pd.DataFrame(durations).T"
   ]
  },
  {
   "cell_type": "code",
   "execution_count": 32,
   "id": "56c5a426",
   "metadata": {},
   "outputs": [],
   "source": [
    "df.to_csv('buildings.csv', sep='\\t')\n",
    "wf.to_csv('warehouses.csv', sep='\\t')\n",
    "distances.to_csv('distances.csv', sep='\\t')"
   ]
  }
 ],
 "metadata": {
  "kernelspec": {
   "display_name": "Python 3 (ipykernel)",
   "language": "python",
   "name": "python3"
  },
  "language_info": {
   "codemirror_mode": {
    "name": "ipython",
    "version": 3
   },
   "file_extension": ".py",
   "mimetype": "text/x-python",
   "name": "python",
   "nbconvert_exporter": "python",
   "pygments_lexer": "ipython3",
   "version": "3.8.3"
  }
 },
 "nbformat": 4,
 "nbformat_minor": 5
}
